{
 "cells": [
  {
   "cell_type": "code",
   "execution_count": 85,
   "metadata": {},
   "outputs": [],
   "source": [
    "import numpy as np\n",
    "import pandas as pd\n",
    "import matplotlib.pyplot as plt\n",
    "import seaborn as sns; sns.set()\n",
    "%matplotlib inline"
   ]
  },
  {
   "cell_type": "code",
   "execution_count": 86,
   "metadata": {},
   "outputs": [
    {
     "data": {
      "text/html": [
       "<div>\n",
       "<style scoped>\n",
       "    .dataframe tbody tr th:only-of-type {\n",
       "        vertical-align: middle;\n",
       "    }\n",
       "\n",
       "    .dataframe tbody tr th {\n",
       "        vertical-align: top;\n",
       "    }\n",
       "\n",
       "    .dataframe thead th {\n",
       "        text-align: right;\n",
       "    }\n",
       "</style>\n",
       "<table border=\"1\" class=\"dataframe\">\n",
       "  <thead>\n",
       "    <tr style=\"text-align: right;\">\n",
       "      <th></th>\n",
       "      <th>age</th>\n",
       "      <th>sex</th>\n",
       "      <th>cp</th>\n",
       "      <th>trestbps</th>\n",
       "      <th>chol</th>\n",
       "      <th>fbs</th>\n",
       "      <th>restecg</th>\n",
       "      <th>thalach</th>\n",
       "      <th>exang</th>\n",
       "      <th>oldpeak</th>\n",
       "      <th>slope</th>\n",
       "      <th>ca</th>\n",
       "      <th>thal</th>\n",
       "      <th>target</th>\n",
       "    </tr>\n",
       "  </thead>\n",
       "  <tbody>\n",
       "    <tr>\n",
       "      <th>0</th>\n",
       "      <td>63</td>\n",
       "      <td>1</td>\n",
       "      <td>3</td>\n",
       "      <td>145</td>\n",
       "      <td>233</td>\n",
       "      <td>1</td>\n",
       "      <td>0</td>\n",
       "      <td>150</td>\n",
       "      <td>0</td>\n",
       "      <td>2.3</td>\n",
       "      <td>0</td>\n",
       "      <td>0</td>\n",
       "      <td>1</td>\n",
       "      <td>1</td>\n",
       "    </tr>\n",
       "    <tr>\n",
       "      <th>1</th>\n",
       "      <td>37</td>\n",
       "      <td>1</td>\n",
       "      <td>2</td>\n",
       "      <td>130</td>\n",
       "      <td>250</td>\n",
       "      <td>0</td>\n",
       "      <td>1</td>\n",
       "      <td>187</td>\n",
       "      <td>0</td>\n",
       "      <td>3.5</td>\n",
       "      <td>0</td>\n",
       "      <td>0</td>\n",
       "      <td>2</td>\n",
       "      <td>1</td>\n",
       "    </tr>\n",
       "    <tr>\n",
       "      <th>2</th>\n",
       "      <td>41</td>\n",
       "      <td>0</td>\n",
       "      <td>1</td>\n",
       "      <td>130</td>\n",
       "      <td>204</td>\n",
       "      <td>0</td>\n",
       "      <td>0</td>\n",
       "      <td>172</td>\n",
       "      <td>0</td>\n",
       "      <td>1.4</td>\n",
       "      <td>2</td>\n",
       "      <td>0</td>\n",
       "      <td>2</td>\n",
       "      <td>1</td>\n",
       "    </tr>\n",
       "    <tr>\n",
       "      <th>3</th>\n",
       "      <td>56</td>\n",
       "      <td>1</td>\n",
       "      <td>1</td>\n",
       "      <td>120</td>\n",
       "      <td>236</td>\n",
       "      <td>0</td>\n",
       "      <td>1</td>\n",
       "      <td>178</td>\n",
       "      <td>0</td>\n",
       "      <td>0.8</td>\n",
       "      <td>2</td>\n",
       "      <td>0</td>\n",
       "      <td>2</td>\n",
       "      <td>1</td>\n",
       "    </tr>\n",
       "    <tr>\n",
       "      <th>4</th>\n",
       "      <td>57</td>\n",
       "      <td>0</td>\n",
       "      <td>0</td>\n",
       "      <td>120</td>\n",
       "      <td>354</td>\n",
       "      <td>0</td>\n",
       "      <td>1</td>\n",
       "      <td>163</td>\n",
       "      <td>1</td>\n",
       "      <td>0.6</td>\n",
       "      <td>2</td>\n",
       "      <td>0</td>\n",
       "      <td>2</td>\n",
       "      <td>1</td>\n",
       "    </tr>\n",
       "  </tbody>\n",
       "</table>\n",
       "</div>"
      ],
      "text/plain": [
       "   age  sex  cp  trestbps  chol  fbs  restecg  thalach  exang  oldpeak  slope  \\\n",
       "0   63    1   3       145   233    1        0      150      0      2.3      0   \n",
       "1   37    1   2       130   250    0        1      187      0      3.5      0   \n",
       "2   41    0   1       130   204    0        0      172      0      1.4      2   \n",
       "3   56    1   1       120   236    0        1      178      0      0.8      2   \n",
       "4   57    0   0       120   354    0        1      163      1      0.6      2   \n",
       "\n",
       "   ca  thal  target  \n",
       "0   0     1       1  \n",
       "1   0     2       1  \n",
       "2   0     2       1  \n",
       "3   0     2       1  \n",
       "4   0     2       1  "
      ]
     },
     "execution_count": 86,
     "metadata": {},
     "output_type": "execute_result"
    }
   ],
   "source": [
    "data = pd.read_csv('heart.csv')\n",
    "data.head()"
   ]
  },
  {
   "cell_type": "code",
   "execution_count": 87,
   "metadata": {},
   "outputs": [
    {
     "data": {
      "text/plain": [
       "age         False\n",
       "sex         False\n",
       "cp          False\n",
       "trestbps    False\n",
       "chol        False\n",
       "fbs         False\n",
       "restecg     False\n",
       "thalach     False\n",
       "exang       False\n",
       "oldpeak     False\n",
       "slope       False\n",
       "ca          False\n",
       "thal        False\n",
       "target      False\n",
       "dtype: bool"
      ]
     },
     "execution_count": 87,
     "metadata": {},
     "output_type": "execute_result"
    }
   ],
   "source": [
    "# Check for any null values.\n",
    "data.isnull().any()"
   ]
  },
  {
   "cell_type": "markdown",
   "metadata": {},
   "source": [
    "## A table explaining the above columns:\n",
    "\n",
    "- age: Age of the participant in years.\n",
    "- sex: 1 for male, 0 for female\n",
    "- cp: Chest pain type\n",
    "    0 - typical angina: Chest pain caused by a lack of blood flow to the heart.\n",
    "    1 - atypical angina: A more subtle version of typcal angina - fatigue, feelings of indigestion, moderate             chest pain.\n",
    "    2 - non-anginal pain: Chest pain not related to any coronary issues.\n",
    "    3 - asymptomatic: No chest pain at all\n",
    "- trestbps: Resting blood pressue in mm Hg on admission to the hospital\n",
    "- chol: serum cholesterol in mg/dl.\n",
    "- fbs: fasting blood sugar. 1 if 120 mg/dl, and 0 otherwise.\n",
    "- restecg: Resting electrocardiographic results. 0 indicates normal, and 1 or 2 indicates abnormal.\n",
    "- thalach: Maximum heart rate achieved.\n",
    "- exang: Exercise induced angina - 1 for yes, 0 for no.\n",
    "- oldpeak: ST depression induced by exercise relative to rest.\n",
    "- slope: Slope of the peak exercise ST segment.\n",
    "- ca: Number of major vessels colored by flouroscopy.\n",
    "- thal: 3 = normal, 6 = fixed defect, 7 = reversible defect.\n",
    "- target: 1 if heart disease present, and 0 otherwise."
   ]
  },
  {
   "cell_type": "markdown",
   "metadata": {},
   "source": [
    "# Overview\n",
    "\n",
    "To begin analyzing this dataset, we consider the following question: Is there a relationship between age,\n",
    "cholesterol level, and whether or not the patient has heart disease (target)? More specifically, we hypothesize\n",
    "that older patients with higher cholesterol levels will be the most likely subset of participants to have heart disease. We will proceed with trying to answer this question in two steps:\n",
    "\n",
    "1. Break up the data into bins corresponding to age groups + (low,moderate,high) cholesterol levels, and see if   there is any significant increase in the likelihood of heart disease as we move up in age and cholesterol.\n",
    "2. Use three-quarters of the data to build a logistic regression model for predicting heart disease (as a function of age and cholesterol level), and verify the accuracy of the model on the other quarter of the data.\n",
    "3. If the above model is insufficiently accurate, experiment with adding more predictors to the regression model to improve the accuracy.\n",
    "\n",
    "However, before proceeding with answering the above question, we look to see if there appears to be any significant correlation between age and cholesterol levels. We do this to ensure that there isn't collinearity in our model."
   ]
  },
  {
   "cell_type": "code",
   "execution_count": 88,
   "metadata": {},
   "outputs": [
    {
     "data": {
      "image/png": "[encoded data removed]",
      "text/plain": [
       "<Figure size 432x288 with 1 Axes>"
      ]
     },
     "metadata": {
      "needs_background": "light"
     },
     "output_type": "display_data"
    }
   ],
   "source": [
    "# Plot age against cholesterol level in a scatterplot.\n",
    "age_chol_scatter = data.plot.scatter('age', 'chol', c='DarkBlue')"
   ]
  },
  {
   "cell_type": "markdown",
   "metadata": {},
   "source": [
    "Based on the above scatterplot, it looks like age and cholesterol levels aren't strongly correlated.\n",
    "That said, it would be careless to make such a claim without computing the correlation coefficient between\n",
    "age and cholesterol. Moreover, the scatterplot shows what appears to be an outlier (chol level > 500). To proceed, we'll do two things.\n",
    "\n",
    "1. Remove any outliers from the dataset (anything beyond 1.5 IQR below Q1 or above Q3 in cholesterol level).\n",
    "2. Compute the correlation coefficient between chol and age to determine the extent of their independence."
   ]
  },
  {
   "cell_type": "code",
   "execution_count": 89,
   "metadata": {},
   "outputs": [
    {
     "name": "stdout",
     "output_type": "stream",
     "text": [
      "Num rows removed due to outliers:  5\n"
     ]
    }
   ],
   "source": [
    "# Get the IQR for cholesterol data, along with upper and lower bounds.\n",
    "age_chol_data = data[['age','chol']]\n",
    "chol_quartiles = age_chol_data['chol'].quantile([0.25, 0.50, 0.75])\n",
    "chol_IQR = chol_quartiles[0.75] - chol_quartiles[0.25]\n",
    "lower_chol_bound = chol_quartiles[0.25] - 1.5*chol_IQR\n",
    "upper_chol_bound = chol_quartiles[0.75] + 1.5*chol_IQR\n",
    "\n",
    "# Filter data based on values within [lower_chol_bound, upper_chol_bound].\n",
    "age_chol_data_filtered = age_chol_data.loc[(age_chol_data['chol'] >= lower_chol_bound) & (age_chol_data['chol'] <= upper_chol_bound)]\n",
    "\n",
    "# See how many values were filtered out.\n",
    "old_num_rows = age_chol_data.shape[0]\n",
    "new_num_rows = age_chol_data_filtered.shape[0]\n",
    "print(\"Num rows removed due to outliers: \", old_num_rows - new_num_rows)"
   ]
  },
  {
   "cell_type": "markdown",
   "metadata": {},
   "source": [
    "Now that we have filtered the data and removed any outliers, we can compute the correlation coefficient to see how correlated age and cholesterol level are. We do this below:"
   ]
  },
  {
   "cell_type": "code",
   "execution_count": 90,
   "metadata": {},
   "outputs": [
    {
     "name": "stdout",
     "output_type": "stream",
     "text": [
      "Correlation coefficient between age and chol:  0.17785334144733822\n"
     ]
    }
   ],
   "source": [
    "# Compute the correlation coefficient between age and chol.\n",
    "age_chol_corr_coeff = age_chol_data_filtered['age'].corr(age_chol_data_filtered['chol'])\n",
    "print(\"Correlation coefficient between age and chol: \", age_chol_corr_coeff)"
   ]
  },
  {
   "cell_type": "markdown",
   "metadata": {},
   "source": [
    "The above value of ~0.178 indicates a weak correlation between age and cholesterol level. This suggests that collinearity between age and cholesterol won't be a serious issue in considering them as predictor variables for heart disease (target).\n",
    "\n",
    "Next, we determine precisely the age/cholesterol brackets we should use for characterizing the data. As a reminder, our goal here is to see if there is an increase in the likelihood of heart disease as we move up in age and cholesterol levels."
   ]
  },
  {
   "cell_type": "code",
   "execution_count": 91,
   "metadata": {},
   "outputs": [
    {
     "name": "stdout",
     "output_type": "stream",
     "text": [
      "0.25    47.5\n",
      "0.50    55.0\n",
      "0.75    61.0\n",
      "Name: age, dtype: float64 \n",
      "\n",
      "Min age:  29\n",
      "Max age:  77\n"
     ]
    }
   ],
   "source": [
    "# Determine which age brackets we should use by looking at IQR.\n",
    "# Also get the min/max ages to get upper and lower bounds for the brackets.\n",
    "# TODO: Box and whisker plots.\n",
    "age_data = data['age']\n",
    "age_quartiles = age_data.quantile([0.25, 0.5, 0.75])\n",
    "min_age = age_data.min()\n",
    "max_age = age_data.max()\n",
    "print(age_quartiles, \"\\n\")\n",
    "print(\"Min age: \", min_age)\n",
    "print(\"Max age: \", max_age)"
   ]
  },
  {
   "cell_type": "markdown",
   "metadata": {},
   "source": [
    "Based on the above quartile values, a natural bracketing scheme for age is the following:\n",
    "\n",
    "-  [29, 47.5]\n",
    "-  (47.5, 55]\n",
    "-  (55, 61]\n",
    "-  (61, 77]\n",
    " \n",
    "For cholesterol level bracketing (chol), I looked at the guidelines outlined at https://www.medicalnewstoday.com/articles/321519.php. These guidelines seem to indicate that for males/females over the age of 20, 125-200 mg/dl seems to be a healthy range. That said, according to the article, doctors now consider a multitude of other factors in addition to the serum cholesterol level before deciding if a patient's cholesterol level is high. Other resources indicate that between 200-250 mg/dl is borderline high, while anything above 250 is considered unequivocally high.\n",
    "\n",
    "Before blindly using the above number (125-200 mg/dl) to categorize cholesterol levels, we take a quick look at\n",
    "the quartile values for chol, along with the min and max values."
   ]
  },
  {
   "cell_type": "code",
   "execution_count": 92,
   "metadata": {},
   "outputs": [
    {
     "name": "stdout",
     "output_type": "stream",
     "text": [
      "0.25    211.0\n",
      "0.50    240.0\n",
      "0.75    274.5\n",
      "Name: chol, dtype: float64 \n",
      "\n",
      "Min cholesterol (mg/dl):  126\n",
      "Max cholesterol (mg/dl):  564\n"
     ]
    }
   ],
   "source": [
    "# Get min and max values for cholesterol levels.\n",
    "cholesterol_data = data['chol']\n",
    "min_chol_level = cholesterol_data.min()\n",
    "max_chol_level = cholesterol_data.max()\n",
    "print(chol_quartiles, \"\\n\")\n",
    "print(\"Min cholesterol (mg/dl): \", min_chol_level)\n",
    "print(\"Max cholesterol (mg/dl): \", max_chol_level)"
   ]
  },
  {
   "cell_type": "markdown",
   "metadata": {},
   "source": [
    "Based on the above, we'll use the following scheme to categorize the various cholesterol levels\n",
    "\n",
    "- [126, 200] : Low\n",
    "- (200, 250]: Moderate\n",
    "- (250, 564]: High\n",
    "\n",
    "Next, we bin the data according to the age/cholesterol brackets outlined above."
   ]
  },
  {
   "cell_type": "code",
   "execution_count": 93,
   "metadata": {},
   "outputs": [
    {
     "data": {
      "text/html": [
       "<div>\n",
       "<style scoped>\n",
       "    .dataframe tbody tr th:only-of-type {\n",
       "        vertical-align: middle;\n",
       "    }\n",
       "\n",
       "    .dataframe tbody tr th {\n",
       "        vertical-align: top;\n",
       "    }\n",
       "\n",
       "    .dataframe thead th {\n",
       "        text-align: right;\n",
       "    }\n",
       "</style>\n",
       "<table border=\"1\" class=\"dataframe\">\n",
       "  <thead>\n",
       "    <tr style=\"text-align: right;\">\n",
       "      <th></th>\n",
       "      <th></th>\n",
       "      <th>heart disease percentage</th>\n",
       "    </tr>\n",
       "    <tr>\n",
       "      <th>age_cat</th>\n",
       "      <th>chol_cat</th>\n",
       "      <th></th>\n",
       "    </tr>\n",
       "  </thead>\n",
       "  <tbody>\n",
       "    <tr>\n",
       "      <th rowspan=\"3\" valign=\"top\">(28.999, 47.5]</th>\n",
       "      <th>low</th>\n",
       "      <td>70.00</td>\n",
       "    </tr>\n",
       "    <tr>\n",
       "      <th>moderate</th>\n",
       "      <td>80.56</td>\n",
       "    </tr>\n",
       "    <tr>\n",
       "      <th>high</th>\n",
       "      <td>60.00</td>\n",
       "    </tr>\n",
       "    <tr>\n",
       "      <th rowspan=\"3\" valign=\"top\">(47.5, 55.0]</th>\n",
       "      <th>low</th>\n",
       "      <td>60.00</td>\n",
       "    </tr>\n",
       "    <tr>\n",
       "      <th>moderate</th>\n",
       "      <td>65.62</td>\n",
       "    </tr>\n",
       "    <tr>\n",
       "      <th>high</th>\n",
       "      <td>61.76</td>\n",
       "    </tr>\n",
       "    <tr>\n",
       "      <th rowspan=\"3\" valign=\"top\">(55.0, 61.0]</th>\n",
       "      <th>low</th>\n",
       "      <td>50.00</td>\n",
       "    </tr>\n",
       "    <tr>\n",
       "      <th>moderate</th>\n",
       "      <td>41.18</td>\n",
       "    </tr>\n",
       "    <tr>\n",
       "      <th>high</th>\n",
       "      <td>23.53</td>\n",
       "    </tr>\n",
       "    <tr>\n",
       "      <th rowspan=\"3\" valign=\"top\">(61.0, 77.0]</th>\n",
       "      <th>low</th>\n",
       "      <td>44.44</td>\n",
       "    </tr>\n",
       "    <tr>\n",
       "      <th>moderate</th>\n",
       "      <td>54.17</td>\n",
       "    </tr>\n",
       "    <tr>\n",
       "      <th>high</th>\n",
       "      <td>44.74</td>\n",
       "    </tr>\n",
       "  </tbody>\n",
       "</table>\n",
       "</div>"
      ],
      "text/plain": [
       "                         heart disease percentage\n",
       "age_cat        chol_cat                          \n",
       "(28.999, 47.5] low                          70.00\n",
       "               moderate                     80.56\n",
       "               high                         60.00\n",
       "(47.5, 55.0]   low                          60.00\n",
       "               moderate                     65.62\n",
       "               high                         61.76\n",
       "(55.0, 61.0]   low                          50.00\n",
       "               moderate                     41.18\n",
       "               high                         23.53\n",
       "(61.0, 77.0]   low                          44.44\n",
       "               moderate                     54.17\n",
       "               high                         44.74"
      ]
     },
     "execution_count": 93,
     "metadata": {},
     "output_type": "execute_result"
    }
   ],
   "source": [
    "# Add in columns with the corresponding age and cholesterol categories.\n",
    "data['age_cat'] = pd.cut(data['age'], [29, 47.5, 55, 61, 77], include_lowest=True)\n",
    "data['chol_cat'] = pd.cut(data['chol'], [126, 200, 250, 564], labels=['low', 'moderate', 'high'], include_lowest=True)\n",
    "\n",
    "# Generate a pivot table, where we look at the percentage of cases with heart\n",
    "# disease in each age/cholesterol category.\n",
    "percentage_func = lambda x: round(100 * x.sum() / x.count(), 2)\n",
    "age_chol_hd_table = pd.pivot_table(data, index=['age_cat', 'chol_cat'], values='target', aggfunc=percentage_func)\n",
    "age_chol_hd_table.columns = ['heart disease percentage']\n",
    "age_chol_hd_table"
   ]
  },
  {
   "cell_type": "code",
   "execution_count": 94,
   "metadata": {},
   "outputs": [
    {
     "data": {
      "image/png": "[encoded data removed]",
      "text/plain": [
       "<Figure size 720x576 with 1 Axes>"
      ]
     },
     "metadata": {
      "needs_background": "light"
     },
     "output_type": "display_data"
    }
   ],
   "source": [
    "# Visualize the above data by age category with a bar plot.\n",
    "age_chol_hd_df = age_chol_hd_table.unstack()\n",
    "ax = age_chol_hd_df.plot(kind='bar', figsize=(10,8))\n",
    "ax.set_title(\"Percentage of group with heart disease\", fontsize=15)\n",
    "ax.set_xlabel(\"Age Category (years)\", fontsize=15)\n",
    "ax.set_ylabel(\"Percentage in group with heart disease\", fontsize=15)\n",
    "ax.legend([\"Low Cholesterol\", \"Moderate Cholesterol\", \"High Cholesterol\"])\n",
    "plt.show()"
   ]
  },
  {
   "cell_type": "markdown",
   "metadata": {},
   "source": [
    "The above plot seems to indicate that, contrary to what was hypothesized, the relationship between age, cholesterol, and heart disease is not as clear-cut as was supposed. In particular, we see that in this dataset, there seems to be an overall decrease in heart-disease percentages in a given age group as we go up in age. Moreover, within a particular age group, those with moderate cholesterol levels had the highest percentage of heart disease incidence (in three of the four age groups). One reason for this last observation might be that the cholesterol levels in the dataset measured serum cholesterol, which is a combination of HDL and LDL cholesterol (LDL is \"bad\" cholesterol). It is possible that a high serum cholesterol doesn't imply a high LDL cholesterol, which presumably would lead to a higher probability of heart disease.\n",
    "\n",
    "Next, we use half the dataset to create a logistic regression model to predict heart disease. We build the model with three-quarters of the dataset, and use the other quarter to verify the accuracy of the model. This analysis is shown below."
   ]
  },
  {
   "cell_type": "code",
   "execution_count": 95,
   "metadata": {},
   "outputs": [
    {
     "name": "stdout",
     "output_type": "stream",
     "text": [
      "The model accuracy is:  0.6973684210526315\n"
     ]
    }
   ],
   "source": [
    "from sklearn.model_selection import train_test_split\n",
    "from sklearn.linear_model import LogisticRegression\n",
    "\n",
    "# Get the necessary data, and split in half for training/test data.\n",
    "predictors = data[['age', 'chol']]\n",
    "responses = data[['target']]\n",
    "pred_train, pred_test, resp_train, resp_test = train_test_split(predictors, responses, test_size=0.25, random_state=0)\n",
    "\n",
    "# Build the logistic regression model.\n",
    "logisticRegr = LogisticRegression(solver=\"lbfgs\")\n",
    "logisticRegr.fit(pred_train, resp_train.values.ravel())\n",
    "\n",
    "# Use this model on the test data, and determine the accuracy.\n",
    "accuracy = logisticRegr.score(pred_test, resp_test.values.ravel())\n",
    "print(\"The model accuracy is: \", accuracy)"
   ]
  },
  {
   "cell_type": "markdown",
   "metadata": {},
   "source": [
    "Clearly, given a model accuracy of ~70%, it seems reasonable to suppose that there exists a better model to be found. Before proceeding, however, we first look at using other models, and then determine the feature importance using a random forest classifier to determine precisely which variables would be most useful for a regression model."
   ]
  },
  {
   "cell_type": "markdown",
   "metadata": {},
   "source": [
    "Next, we try a different model, in which we use a decision tree to predict heart disease. In particular, we use all columns (besides target) as predictors in the decision tree (minus age categories and cholesterol categories, since this information is already contained in the data implicitly)."
   ]
  },
  {
   "cell_type": "code",
   "execution_count": 96,
   "metadata": {},
   "outputs": [
    {
     "name": "stdout",
     "output_type": "stream",
     "text": [
      "Decision tree model accuracy:  0.8026315789473685\n"
     ]
    }
   ],
   "source": [
    "from sklearn import tree\n",
    "\n",
    "# Get the response data, predictor data, and split the data for training/evaluation.\n",
    "dt_predictors = data[data.columns.difference(['target', 'age_cat', 'chol_cat'])]\n",
    "dt_response = data[['target']]\n",
    "pred_train, pred_test, resp_train, resp_test = train_test_split(dt_predictors, dt_response, test_size=0.25, random_state=0)\n",
    "\n",
    "# Build the decision tree model.\n",
    "clf = tree.DecisionTreeClassifier()\n",
    "clf.fit(pred_train, resp_train)\n",
    "\n",
    "# Use this model on the test data, and determine the accuracy.\n",
    "accuracy = clf.score(pred_test, resp_test.values.ravel())\n",
    "print(\"Decision tree model accuracy: \", accuracy)"
   ]
  },
  {
   "cell_type": "markdown",
   "metadata": {},
   "source": [
    "From the above, we see an improvement in using a decision tree as opposed to logistic regression. Next, we try using a random forest classifier to see if we can further improve our model accuracy."
   ]
  },
  {
   "cell_type": "code",
   "execution_count": 97,
   "metadata": {},
   "outputs": [
    {
     "name": "stdout",
     "output_type": "stream",
     "text": [
      "Random forest model accuracy:  0.8552631578947368\n"
     ]
    }
   ],
   "source": [
    "# Generate the random forest classifier.\n",
    "from sklearn.ensemble import RandomForestClassifier\n",
    "clf = RandomForestClassifier(n_estimators=100)\n",
    "clf.fit(pred_train, resp_train.values.ravel())\n",
    "\n",
    "# Test the model on the test data.\n",
    "accuracy = clf.score(pred_test, resp_test.values.ravel())\n",
    "print(\"Random forest model accuracy: \", accuracy)"
   ]
  },
  {
   "cell_type": "markdown",
   "metadata": {},
   "source": [
    "From the above, we see that we get the highest accuracy if we use a random forest classifier. It is also worth exploring the feature importance as computed by the random forest. This is shown below:"
   ]
  },
  {
   "cell_type": "code",
   "execution_count": 98,
   "metadata": {},
   "outputs": [
    {
     "data": {
      "text/html": [
       "<div>\n",
       "<style scoped>\n",
       "    .dataframe tbody tr th:only-of-type {\n",
       "        vertical-align: middle;\n",
       "    }\n",
       "\n",
       "    .dataframe tbody tr th {\n",
       "        vertical-align: top;\n",
       "    }\n",
       "\n",
       "    .dataframe thead th {\n",
       "        text-align: right;\n",
       "    }\n",
       "</style>\n",
       "<table border=\"1\" class=\"dataframe\">\n",
       "  <thead>\n",
       "    <tr style=\"text-align: right;\">\n",
       "      <th></th>\n",
       "      <th>importance</th>\n",
       "    </tr>\n",
       "  </thead>\n",
       "  <tbody>\n",
       "    <tr>\n",
       "      <th>cp</th>\n",
       "      <td>0.129238</td>\n",
       "    </tr>\n",
       "    <tr>\n",
       "      <th>ca</th>\n",
       "      <td>0.125701</td>\n",
       "    </tr>\n",
       "    <tr>\n",
       "      <th>oldpeak</th>\n",
       "      <td>0.115953</td>\n",
       "    </tr>\n",
       "    <tr>\n",
       "      <th>thalach</th>\n",
       "      <td>0.115330</td>\n",
       "    </tr>\n",
       "    <tr>\n",
       "      <th>thal</th>\n",
       "      <td>0.097735</td>\n",
       "    </tr>\n",
       "    <tr>\n",
       "      <th>chol</th>\n",
       "      <td>0.085442</td>\n",
       "    </tr>\n",
       "    <tr>\n",
       "      <th>age</th>\n",
       "      <td>0.077852</td>\n",
       "    </tr>\n",
       "    <tr>\n",
       "      <th>trestbps</th>\n",
       "      <td>0.069410</td>\n",
       "    </tr>\n",
       "    <tr>\n",
       "      <th>exang</th>\n",
       "      <td>0.059392</td>\n",
       "    </tr>\n",
       "    <tr>\n",
       "      <th>slope</th>\n",
       "      <td>0.049632</td>\n",
       "    </tr>\n",
       "    <tr>\n",
       "      <th>sex</th>\n",
       "      <td>0.045754</td>\n",
       "    </tr>\n",
       "    <tr>\n",
       "      <th>restecg</th>\n",
       "      <td>0.017605</td>\n",
       "    </tr>\n",
       "    <tr>\n",
       "      <th>fbs</th>\n",
       "      <td>0.010957</td>\n",
       "    </tr>\n",
       "  </tbody>\n",
       "</table>\n",
       "</div>"
      ],
      "text/plain": [
       "          importance\n",
       "cp          0.129238\n",
       "ca          0.125701\n",
       "oldpeak     0.115953\n",
       "thalach     0.115330\n",
       "thal        0.097735\n",
       "chol        0.085442\n",
       "age         0.077852\n",
       "trestbps    0.069410\n",
       "exang       0.059392\n",
       "slope       0.049632\n",
       "sex         0.045754\n",
       "restecg     0.017605\n",
       "fbs         0.010957"
      ]
     },
     "execution_count": 98,
     "metadata": {},
     "output_type": "execute_result"
    }
   ],
   "source": [
    "feature_importance = pd.DataFrame(data=clf.feature_importances_, index=pred_train.columns, columns=['importance']).sort_values('importance', ascending=False)\n",
    "feature_importance"
   ]
  },
  {
   "cell_type": "markdown",
   "metadata": {},
   "source": [
    "Based on the above, we see that cp, ca, and oldpeak are the three most important features as computed by our random forest classifier. Using the above, we recompute our logistic regression model based on these features. This is shown below:"
   ]
  },
  {
   "cell_type": "code",
   "execution_count": 99,
   "metadata": {},
   "outputs": [
    {
     "data": {
      "image/png": "[encoded data removed]",
      "text/plain": [
       "<Figure size 720x576 with 2 Axes>"
      ]
     },
     "metadata": {
      "needs_background": "light"
     },
     "output_type": "display_data"
    }
   ],
   "source": [
    "# Visualize the correlation matrix to determine a better set of predictor variables that\n",
    "# aren't correlated with eachother.\n",
    "corr_data = data[data.columns.difference(['age_cat', 'chol_cat'])]\n",
    "corr = corr_data.corr()\n",
    "fig, ax = plt.subplots(figsize=(10,8))\n",
    "ax.set_title(\"Heart-Disease Predictors Correlation Map\", fontsize=15)\n",
    "sns.heatmap(corr, xticklabels=corr.columns, yticklabels=corr.columns, ax=ax)\n",
    "plt.show()"
   ]
  },
  {
   "cell_type": "code",
   "execution_count": 100,
   "metadata": {},
   "outputs": [
    {
     "name": "stdout",
     "output_type": "stream",
     "text": [
      "The model accuracy is:  0.8026315789473685\n"
     ]
    }
   ],
   "source": [
    "# Build a new regression model, using ca, cp, and oldpeak as predictor variables.\n",
    "# Get the necessary data, and split for training/test data.\n",
    "predictors = data[['ca', 'cp', 'oldpeak']]\n",
    "responses = data[['target']]\n",
    "pred_train, pred_test, resp_train, resp_test = train_test_split(predictors, responses, test_size=0.25, random_state=0)\n",
    "\n",
    "# Build the logistic regression model.\n",
    "logisticRegr_2 = LogisticRegression(solver=\"lbfgs\")\n",
    "logisticRegr_2.fit(pred_train, resp_train.values.ravel())\n",
    "\n",
    "# Use this model on the test data, and determine the accuracy.\n",
    "accuracy = logisticRegr_2.score(pred_test, resp_test.values.ravel())\n",
    "print(\"The model accuracy is: \", accuracy)"
   ]
  },
  {
   "cell_type": "code",
   "execution_count": null,
   "metadata": {},
   "outputs": [],
   "source": []
  }
 ],
 "metadata": {
  "kernelspec": {
   "display_name": "Python 3",
   "language": "python",
   "name": "python3"
  },
  "language_info": {
   "codemirror_mode": {
    "name": "ipython",
    "version": 3
   },
   "file_extension": ".py",
   "mimetype": "text/x-python",
   "name": "python",
   "nbconvert_exporter": "python",
   "pygments_lexer": "ipython3",
   "version": "3.7.1"
  }
 },
 "nbformat": 4,
 "nbformat_minor": 2
}
